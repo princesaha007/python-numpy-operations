{
 "cells": [
  {
   "cell_type": "code",
   "id": "initial_id",
   "metadata": {
    "collapsed": true,
    "ExecuteTime": {
     "end_time": "2025-08-20T09:10:19.540751Z",
     "start_time": "2025-08-20T09:10:19.534707Z"
    }
   },
   "source": "print(\"hello world\")",
   "outputs": [
    {
     "name": "stdout",
     "output_type": "stream",
     "text": [
      "hello world\n"
     ]
    }
   ],
   "execution_count": 1
  },
  {
   "metadata": {
    "ExecuteTime": {
     "end_time": "2025-08-20T09:10:53.521057Z",
     "start_time": "2025-08-20T09:10:53.515985Z"
    }
   },
   "cell_type": "code",
   "source": "print(\"hello world\")",
   "id": "957620269bbb6e30",
   "outputs": [
    {
     "name": "stdout",
     "output_type": "stream",
     "text": [
      "hello world\n"
     ]
    }
   ],
   "execution_count": 3
  },
  {
   "metadata": {
    "ExecuteTime": {
     "end_time": "2025-08-20T09:13:54.458947Z",
     "start_time": "2025-08-20T09:13:54.454655Z"
    }
   },
   "cell_type": "code",
   "source": "import numpy as np",
   "id": "3f2a8e46640f7787",
   "outputs": [],
   "execution_count": 8
  },
  {
   "metadata": {
    "ExecuteTime": {
     "end_time": "2025-08-20T09:14:08.329374Z",
     "start_time": "2025-08-20T09:14:08.325012Z"
    }
   },
   "cell_type": "code",
   "source": "import numpy as np",
   "id": "2ad7e58094a9f0a0",
   "outputs": [],
   "execution_count": 9
  },
  {
   "metadata": {
    "ExecuteTime": {
     "end_time": "2025-08-20T09:15:21.031928Z",
     "start_time": "2025-08-20T09:15:21.020354Z"
    }
   },
   "cell_type": "code",
   "source": [
    "arr1= np.array([\"1,2,3,4,5,6,7\"])\n",
    "arr1"
   ],
   "id": "a7a4256ba9f95bc0",
   "outputs": [
    {
     "data": {
      "text/plain": [
       "array(['1,2,3,4,5,6,7'], dtype='<U13')"
      ]
     },
     "execution_count": 10,
     "metadata": {},
     "output_type": "execute_result"
    }
   ],
   "execution_count": 10
  },
  {
   "metadata": {
    "ExecuteTime": {
     "end_time": "2025-08-20T09:15:42.486982Z",
     "start_time": "2025-08-20T09:15:42.479465Z"
    }
   },
   "cell_type": "code",
   "source": "type(arr1)",
   "id": "c08a6e5729afca36",
   "outputs": [
    {
     "data": {
      "text/plain": [
       "numpy.ndarray"
      ]
     },
     "execution_count": 11,
     "metadata": {},
     "output_type": "execute_result"
    }
   ],
   "execution_count": 11
  },
  {
   "metadata": {
    "ExecuteTime": {
     "end_time": "2025-08-20T09:18:46.145773Z",
     "start_time": "2025-08-20T09:18:46.137836Z"
    }
   },
   "cell_type": "code",
   "source": [
    "arr2= np.zeros((3,3))\n",
    "arr2"
   ],
   "id": "ef478e9fffc3a50b",
   "outputs": [
    {
     "data": {
      "text/plain": [
       "array([[0., 0., 0.],\n",
       "       [0., 0., 0.],\n",
       "       [0., 0., 0.]])"
      ]
     },
     "execution_count": 12,
     "metadata": {},
     "output_type": "execute_result"
    }
   ],
   "execution_count": 12
  },
  {
   "metadata": {
    "ExecuteTime": {
     "end_time": "2025-08-20T09:19:27.141438Z",
     "start_time": "2025-08-20T09:19:27.135702Z"
    }
   },
   "cell_type": "code",
   "source": [
    "arr3= np.ones((3,4))\n",
    "arr3"
   ],
   "id": "54d509aac265ef22",
   "outputs": [
    {
     "data": {
      "text/plain": [
       "array([[1., 1., 1., 1.],\n",
       "       [1., 1., 1., 1.],\n",
       "       [1., 1., 1., 1.]])"
      ]
     },
     "execution_count": 13,
     "metadata": {},
     "output_type": "execute_result"
    }
   ],
   "execution_count": 13
  },
  {
   "metadata": {
    "ExecuteTime": {
     "end_time": "2025-08-20T09:20:39.279185Z",
     "start_time": "2025-08-20T09:20:39.271242Z"
    }
   },
   "cell_type": "code",
   "source": [
    "arr4= np.identity(5)\n",
    "arr4"
   ],
   "id": "1b1a74990df5c347",
   "outputs": [
    {
     "data": {
      "text/plain": [
       "array([[1., 0., 0., 0., 0.],\n",
       "       [0., 1., 0., 0., 0.],\n",
       "       [0., 0., 1., 0., 0.],\n",
       "       [0., 0., 0., 1., 0.],\n",
       "       [0., 0., 0., 0., 1.]])"
      ]
     },
     "execution_count": 14,
     "metadata": {},
     "output_type": "execute_result"
    }
   ],
   "execution_count": 14
  },
  {
   "metadata": {
    "ExecuteTime": {
     "end_time": "2025-08-20T09:21:39.066442Z",
     "start_time": "2025-08-20T09:21:39.060937Z"
    }
   },
   "cell_type": "code",
   "source": [
    "arr5 = np.arange(10)\n",
    "arr5"
   ],
   "id": "fc0a3c2876553d52",
   "outputs": [
    {
     "data": {
      "text/plain": [
       "array([0, 1, 2, 3, 4, 5, 6, 7, 8, 9])"
      ]
     },
     "execution_count": 15,
     "metadata": {},
     "output_type": "execute_result"
    }
   ],
   "execution_count": 15
  },
  {
   "metadata": {
    "ExecuteTime": {
     "end_time": "2025-08-20T09:22:10.103580Z",
     "start_time": "2025-08-20T09:22:10.097511Z"
    }
   },
   "cell_type": "code",
   "source": [
    "arr6 = np.arange(5,10)\n",
    "arr6"
   ],
   "id": "661f50586e1491",
   "outputs": [
    {
     "data": {
      "text/plain": [
       "array([5, 6, 7, 8, 9])"
      ]
     },
     "execution_count": 16,
     "metadata": {},
     "output_type": "execute_result"
    }
   ],
   "execution_count": 16
  },
  {
   "metadata": {
    "ExecuteTime": {
     "end_time": "2025-08-20T09:22:29.141301Z",
     "start_time": "2025-08-20T09:22:29.135327Z"
    }
   },
   "cell_type": "code",
   "source": [
    "arr7 = np.arange(5,10,2)\n",
    "arr7"
   ],
   "id": "33b3ccdda7807fd0",
   "outputs": [
    {
     "data": {
      "text/plain": [
       "array([5, 7, 9])"
      ]
     },
     "execution_count": 17,
     "metadata": {},
     "output_type": "execute_result"
    }
   ],
   "execution_count": 17
  },
  {
   "metadata": {
    "ExecuteTime": {
     "end_time": "2025-08-20T09:23:07.334684Z",
     "start_time": "2025-08-20T09:23:07.327793Z"
    }
   },
   "cell_type": "code",
   "source": [
    "arr7 = np.arange(1,10,3)\n",
    "arr7"
   ],
   "id": "e450bb3a66c6695f",
   "outputs": [
    {
     "data": {
      "text/plain": [
       "array([1, 4, 7])"
      ]
     },
     "execution_count": 18,
     "metadata": {},
     "output_type": "execute_result"
    }
   ],
   "execution_count": 18
  },
  {
   "metadata": {
    "ExecuteTime": {
     "end_time": "2025-08-20T09:25:12.149668Z",
     "start_time": "2025-08-20T09:25:12.143452Z"
    }
   },
   "cell_type": "code",
   "source": [
    "arr8 = np.linspace(20,30,10)\n",
    "arr8"
   ],
   "id": "3a640008a4a3d14c",
   "outputs": [
    {
     "data": {
      "text/plain": [
       "array([20.        , 21.11111111, 22.22222222, 23.33333333, 24.44444444,\n",
       "       25.55555556, 26.66666667, 27.77777778, 28.88888889, 30.        ])"
      ]
     },
     "execution_count": 19,
     "metadata": {},
     "output_type": "execute_result"
    }
   ],
   "execution_count": 19
  },
  {
   "metadata": {
    "ExecuteTime": {
     "end_time": "2025-08-21T04:52:11.369087Z",
     "start_time": "2025-08-21T04:52:10.525747Z"
    }
   },
   "cell_type": "code",
   "source": "import numpy as np\n",
   "id": "302d64b1d71bfe53",
   "outputs": [],
   "execution_count": 3
  },
  {
   "metadata": {
    "ExecuteTime": {
     "end_time": "2025-08-21T04:52:25.095322Z",
     "start_time": "2025-08-21T04:52:25.083907Z"
    }
   },
   "cell_type": "code",
   "source": [
    "arr8 = np.array([1, 2, 3])\n",
    "arr8"
   ],
   "id": "4fd67e368f7407aa",
   "outputs": [
    {
     "data": {
      "text/plain": [
       "array([1, 2, 3])"
      ]
     },
     "execution_count": 4,
     "metadata": {},
     "output_type": "execute_result"
    }
   ],
   "execution_count": 4
  },
  {
   "metadata": {
    "ExecuteTime": {
     "end_time": "2025-08-21T04:58:02.460411Z",
     "start_time": "2025-08-21T04:58:02.311755Z"
    }
   },
   "cell_type": "code",
   "source": "import numpy as np",
   "id": "ce738443ef49eff4",
   "outputs": [],
   "execution_count": 3
  },
  {
   "metadata": {
    "ExecuteTime": {
     "end_time": "2025-08-21T04:58:11.610310Z",
     "start_time": "2025-08-21T04:58:11.600199Z"
    }
   },
   "cell_type": "code",
   "source": [
    "arr8 = np.array([1, 2, 3])\n",
    "arr8"
   ],
   "id": "7ed5f4cdda5cbbf3",
   "outputs": [
    {
     "data": {
      "text/plain": [
       "array([1, 2, 3])"
      ]
     },
     "execution_count": 4,
     "metadata": {},
     "output_type": "execute_result"
    }
   ],
   "execution_count": 4
  },
  {
   "metadata": {
    "ExecuteTime": {
     "end_time": "2025-08-21T04:58:17.675202Z",
     "start_time": "2025-08-21T04:58:17.671951Z"
    }
   },
   "cell_type": "code",
   "source": "",
   "id": "8a2748b22841510b",
   "outputs": [],
   "execution_count": null
  },
  {
   "metadata": {
    "ExecuteTime": {
     "end_time": "2025-08-21T04:58:25.488782Z",
     "start_time": "2025-08-21T04:58:25.482575Z"
    }
   },
   "cell_type": "code",
   "source": [
    "arr9 = arr8.copy()\n",
    "arr9"
   ],
   "id": "b5f53459083c820",
   "outputs": [
    {
     "data": {
      "text/plain": [
       "array([1, 2, 3])"
      ]
     },
     "execution_count": 5,
     "metadata": {},
     "output_type": "execute_result"
    }
   ],
   "execution_count": 5
  },
  {
   "metadata": {
    "ExecuteTime": {
     "end_time": "2025-08-21T06:41:43.221103Z",
     "start_time": "2025-08-21T06:41:43.204181Z"
    }
   },
   "cell_type": "code",
   "source": "arr9.shape",
   "id": "4a01cacef49a3210",
   "outputs": [
    {
     "data": {
      "text/plain": [
       "(3,)"
      ]
     },
     "execution_count": 6,
     "metadata": {},
     "output_type": "execute_result"
    }
   ],
   "execution_count": 6
  },
  {
   "metadata": {
    "ExecuteTime": {
     "end_time": "2025-08-21T06:56:39.289108Z",
     "start_time": "2025-08-21T06:56:39.276423Z"
    }
   },
   "cell_type": "code",
   "source": [
    "arr10= np.array([[1,2],[3,4],[5,6],[7,8]])\n",
    "arr10"
   ],
   "id": "205db0f8e05722f2",
   "outputs": [
    {
     "data": {
      "text/plain": [
       "array([[1, 2],\n",
       "       [3, 4],\n",
       "       [5, 6],\n",
       "       [7, 8]])"
      ]
     },
     "execution_count": 7,
     "metadata": {},
     "output_type": "execute_result"
    }
   ],
   "execution_count": 7
  },
  {
   "metadata": {
    "ExecuteTime": {
     "end_time": "2025-08-21T06:56:58.339410Z",
     "start_time": "2025-08-21T06:56:58.332026Z"
    }
   },
   "cell_type": "code",
   "source": "arr10.shape",
   "id": "22af2f3aa7a305ea",
   "outputs": [
    {
     "data": {
      "text/plain": [
       "(4, 2)"
      ]
     },
     "execution_count": 8,
     "metadata": {},
     "output_type": "execute_result"
    }
   ],
   "execution_count": 8
  },
  {
   "metadata": {
    "ExecuteTime": {
     "end_time": "2025-08-21T06:59:15.299749Z",
     "start_time": "2025-08-21T06:59:15.293035Z"
    }
   },
   "cell_type": "code",
   "source": [
    "arr11= np.array([[[1,2],[3,4]],[[5,6],[7,8]]])\n",
    "arr11"
   ],
   "id": "ac65986382d537e4",
   "outputs": [
    {
     "data": {
      "text/plain": [
       "array([[[1, 2],\n",
       "        [3, 4]],\n",
       "\n",
       "       [[5, 6],\n",
       "        [7, 8]]])"
      ]
     },
     "execution_count": 9,
     "metadata": {},
     "output_type": "execute_result"
    }
   ],
   "execution_count": 9
  },
  {
   "metadata": {
    "ExecuteTime": {
     "end_time": "2025-08-21T06:59:50.055591Z",
     "start_time": "2025-08-21T06:59:50.048625Z"
    }
   },
   "cell_type": "code",
   "source": "arr11.shape",
   "id": "d948f0b61e770aca",
   "outputs": [
    {
     "data": {
      "text/plain": [
       "(2, 2, 2)"
      ]
     },
     "execution_count": 10,
     "metadata": {},
     "output_type": "execute_result"
    }
   ],
   "execution_count": 10
  },
  {
   "metadata": {},
   "cell_type": "markdown",
   "source": "#### To check the dimension of the metrix we use [ndim]\n",
   "id": "fbbdac13e02fc49e"
  },
  {
   "metadata": {
    "ExecuteTime": {
     "end_time": "2025-08-21T07:01:18.471858Z",
     "start_time": "2025-08-21T07:01:18.465489Z"
    }
   },
   "cell_type": "code",
   "source": "arr11.ndim",
   "id": "350954b8fa665455",
   "outputs": [
    {
     "data": {
      "text/plain": [
       "3"
      ]
     },
     "execution_count": 11,
     "metadata": {},
     "output_type": "execute_result"
    }
   ],
   "execution_count": 11
  },
  {
   "metadata": {
    "ExecuteTime": {
     "end_time": "2025-08-21T07:02:32.653155Z",
     "start_time": "2025-08-21T07:02:32.646299Z"
    }
   },
   "cell_type": "code",
   "source": [
    "arr12= np.array([[1,2],[3,4]])\n",
    "arr12"
   ],
   "id": "dc29373af44afb43",
   "outputs": [
    {
     "data": {
      "text/plain": [
       "array([[1, 2],\n",
       "       [3, 4]])"
      ]
     },
     "execution_count": 12,
     "metadata": {},
     "output_type": "execute_result"
    }
   ],
   "execution_count": 12
  },
  {
   "metadata": {
    "ExecuteTime": {
     "end_time": "2025-08-21T07:02:42.432441Z",
     "start_time": "2025-08-21T07:02:42.425096Z"
    }
   },
   "cell_type": "code",
   "source": "arr12.ndim",
   "id": "eb8eb5ccfc01ae28",
   "outputs": [
    {
     "data": {
      "text/plain": [
       "2"
      ]
     },
     "execution_count": 13,
     "metadata": {},
     "output_type": "execute_result"
    }
   ],
   "execution_count": 13
  },
  {
   "metadata": {
    "ExecuteTime": {
     "end_time": "2025-08-21T07:03:34.582526Z",
     "start_time": "2025-08-21T07:03:34.570601Z"
    }
   },
   "cell_type": "code",
   "source": [
    "arr13 = np.array([1, 2, 3])\n",
    "arr13"
   ],
   "id": "16e3e14c94524c52",
   "outputs": [
    {
     "data": {
      "text/plain": [
       "array([1, 2, 3])"
      ]
     },
     "execution_count": 15,
     "metadata": {},
     "output_type": "execute_result"
    }
   ],
   "execution_count": 15
  },
  {
   "metadata": {
    "ExecuteTime": {
     "end_time": "2025-08-21T07:03:49.849348Z",
     "start_time": "2025-08-21T07:03:49.839764Z"
    }
   },
   "cell_type": "code",
   "source": "arr13.ndim",
   "id": "80ded3f3f03aaba3",
   "outputs": [
    {
     "data": {
      "text/plain": [
       "1"
      ]
     },
     "execution_count": 16,
     "metadata": {},
     "output_type": "execute_result"
    }
   ],
   "execution_count": 16
  },
  {
   "metadata": {},
   "cell_type": "markdown",
   "source": "#### Size is number of items in a matrix",
   "id": "292a98e9cf5c2b3d"
  },
  {
   "metadata": {
    "ExecuteTime": {
     "end_time": "2025-08-21T07:05:19.131850Z",
     "start_time": "2025-08-21T07:05:19.125318Z"
    }
   },
   "cell_type": "code",
   "source": "arr11.size",
   "id": "49320431bac6ae98",
   "outputs": [
    {
     "data": {
      "text/plain": [
       "8"
      ]
     },
     "execution_count": 17,
     "metadata": {},
     "output_type": "execute_result"
    }
   ],
   "execution_count": 17
  },
  {
   "metadata": {
    "ExecuteTime": {
     "end_time": "2025-08-21T07:05:28.723500Z",
     "start_time": "2025-08-21T07:05:28.716494Z"
    }
   },
   "cell_type": "code",
   "source": "arr12.size",
   "id": "fbc87a25a72e142e",
   "outputs": [
    {
     "data": {
      "text/plain": [
       "4"
      ]
     },
     "execution_count": 18,
     "metadata": {},
     "output_type": "execute_result"
    }
   ],
   "execution_count": 18
  },
  {
   "metadata": {
    "ExecuteTime": {
     "end_time": "2025-08-21T07:06:47.536995Z",
     "start_time": "2025-08-21T07:06:47.531181Z"
    }
   },
   "cell_type": "code",
   "source": "arr12.itemsize",
   "id": "daf0c10346290367",
   "outputs": [
    {
     "data": {
      "text/plain": [
       "8"
      ]
     },
     "execution_count": 19,
     "metadata": {},
     "output_type": "execute_result"
    }
   ],
   "execution_count": 19
  },
  {
   "metadata": {
    "ExecuteTime": {
     "end_time": "2025-08-21T08:24:39.277113Z",
     "start_time": "2025-08-21T08:24:39.270016Z"
    }
   },
   "cell_type": "code",
   "source": "arr12.dtype",
   "id": "d1589d2a2516dd5c",
   "outputs": [
    {
     "data": {
      "text/plain": [
       "dtype('int64')"
      ]
     },
     "execution_count": 24,
     "metadata": {},
     "output_type": "execute_result"
    }
   ],
   "execution_count": 24
  },
  {
   "metadata": {
    "ExecuteTime": {
     "end_time": "2025-08-21T08:19:38.090753Z",
     "start_time": "2025-08-21T08:19:38.078813Z"
    }
   },
   "cell_type": "code",
   "source": [
    "arr13= np.arange(24).reshape(6,4)\n",
    "arr13"
   ],
   "id": "dd6266b705e1e9fe",
   "outputs": [
    {
     "data": {
      "text/plain": [
       "array([[ 0,  1,  2,  3],\n",
       "       [ 4,  5,  6,  7],\n",
       "       [ 8,  9, 10, 11],\n",
       "       [12, 13, 14, 15],\n",
       "       [16, 17, 18, 19],\n",
       "       [20, 21, 22, 23]])"
      ]
     },
     "execution_count": 22,
     "metadata": {},
     "output_type": "execute_result"
    }
   ],
   "execution_count": 22
  },
  {
   "metadata": {},
   "cell_type": "markdown",
   "source": [
    "### **Slicing [rows, cols]**\n",
    "\n",
    "Rows 2:4 → take rows with indices 2 and 3 (not 4):\n",
    "\n",
    "Row 2 → _[ 8, 9, 10, 11]_\n",
    "\n",
    "Row 3 → _[12, 13, 14, 15]_\n",
    "\n",
    "Columns 1:3 → take columns with indices 1 and 2 (not 3):\n",
    "\n",
    "From each selected row, keep only Col1 and Col2.\n",
    "Apply to the rows:\n",
    "\n",
    "Row 2, columns 1..2 → _[9, 10]_\n",
    "\n",
    "Row 3, columns 1..2 → _[13, 14]_\n",
    "\n",
    "Stack those rows together →"
   ],
   "id": "76d4c623d32ed853"
  },
  {
   "metadata": {
    "ExecuteTime": {
     "end_time": "2025-08-21T08:20:05.854429Z",
     "start_time": "2025-08-21T08:20:05.847143Z"
    }
   },
   "cell_type": "code",
   "source": "arr13[2:4,1:3]",
   "id": "bffc25fe6b9758f9",
   "outputs": [
    {
     "data": {
      "text/plain": [
       "array([[ 9, 10],\n",
       "       [13, 14]])"
      ]
     },
     "execution_count": 23,
     "metadata": {},
     "output_type": "execute_result"
    }
   ],
   "execution_count": 23
  },
  {
   "metadata": {},
   "cell_type": "markdown",
   "source": [
    "\n",
    "###### : is taking all the rows\n"
   ],
   "id": "ede256ade94db597"
  },
  {
   "metadata": {
    "ExecuteTime": {
     "end_time": "2025-08-21T08:29:27.986699Z",
     "start_time": "2025-08-21T08:29:27.979674Z"
    }
   },
   "cell_type": "code",
   "source": "arr13[:,2:4]",
   "id": "c5685718220b256c",
   "outputs": [
    {
     "data": {
      "text/plain": [
       "array([[ 2,  3],\n",
       "       [ 6,  7],\n",
       "       [10, 11],\n",
       "       [14, 15],\n",
       "       [18, 19],\n",
       "       [22, 23]])"
      ]
     },
     "execution_count": 25,
     "metadata": {},
     "output_type": "execute_result"
    }
   ],
   "execution_count": 25
  },
  {
   "metadata": {},
   "cell_type": "markdown",
   "source": "### Iteration",
   "id": "3ccf2067c1b403e8"
  },
  {
   "metadata": {
    "ExecuteTime": {
     "end_time": "2025-08-21T08:34:12.019503Z",
     "start_time": "2025-08-21T08:34:12.005142Z"
    }
   },
   "cell_type": "code",
   "source": [
    "for i in arr13:\n",
    "    print(i)"
   ],
   "id": "98ae8c25c6363306",
   "outputs": [
    {
     "name": "stdout",
     "output_type": "stream",
     "text": [
      "[0 1 2 3]\n",
      "[4 5 6 7]\n",
      "[ 8  9 10 11]\n",
      "[12 13 14 15]\n",
      "[16 17 18 19]\n",
      "[20 21 22 23]\n"
     ]
    }
   ],
   "execution_count": 26
  },
  {
   "metadata": {
    "ExecuteTime": {
     "end_time": "2025-08-21T08:35:22.964524Z",
     "start_time": "2025-08-21T08:35:22.951359Z"
    }
   },
   "cell_type": "code",
   "source": [
    "for i in np.nditer(arr13):\n",
    "    print(i)"
   ],
   "id": "e42ca2f1e645be6a",
   "outputs": [
    {
     "name": "stdout",
     "output_type": "stream",
     "text": [
      "0\n",
      "1\n",
      "2\n",
      "3\n",
      "4\n",
      "5\n",
      "6\n",
      "7\n",
      "8\n",
      "9\n",
      "10\n",
      "11\n",
      "12\n",
      "13\n",
      "14\n",
      "15\n",
      "16\n",
      "17\n",
      "18\n",
      "19\n",
      "20\n",
      "21\n",
      "22\n",
      "23\n"
     ]
    }
   ],
   "execution_count": 27
  },
  {
   "metadata": {},
   "cell_type": "markdown",
   "source": "#### Array Operation",
   "id": "38619690c9f2f158"
  },
  {
   "metadata": {
    "ExecuteTime": {
     "end_time": "2025-08-21T08:40:46.617705Z",
     "start_time": "2025-08-21T08:40:46.613376Z"
    }
   },
   "cell_type": "code",
   "source": "import numpy as np",
   "id": "a9bc6b5b2220db67",
   "outputs": [],
   "execution_count": 28
  },
  {
   "metadata": {
    "ExecuteTime": {
     "end_time": "2025-08-21T08:43:01.901434Z",
     "start_time": "2025-08-21T08:43:01.892726Z"
    }
   },
   "cell_type": "code",
   "source": [
    "arr1= np.arange(1,7)\n",
    "arr2= np.array([7,8,9,10,11,12])\n",
    "arr1"
   ],
   "id": "23b52ef93b73ac12",
   "outputs": [
    {
     "data": {
      "text/plain": [
       "array([1, 2, 3, 4, 5, 6])"
      ]
     },
     "execution_count": 34,
     "metadata": {},
     "output_type": "execute_result"
    }
   ],
   "execution_count": 34
  },
  {
   "metadata": {
    "ExecuteTime": {
     "end_time": "2025-08-21T08:42:54.451211Z",
     "start_time": "2025-08-21T08:42:54.445582Z"
    }
   },
   "cell_type": "code",
   "source": "arr2",
   "id": "829c4b1399cfcb1f",
   "outputs": [
    {
     "data": {
      "text/plain": [
       "array([ 7,  8,  9, 10, 11, 12])"
      ]
     },
     "execution_count": 33,
     "metadata": {},
     "output_type": "execute_result"
    }
   ],
   "execution_count": 33
  },
  {
   "metadata": {
    "ExecuteTime": {
     "end_time": "2025-08-21T08:43:13.889481Z",
     "start_time": "2025-08-21T08:43:13.875710Z"
    }
   },
   "cell_type": "code",
   "source": "arr1-arr2",
   "id": "8bc64a764c060fe5",
   "outputs": [
    {
     "data": {
      "text/plain": [
       "array([-6, -6, -6, -6, -6, -6])"
      ]
     },
     "execution_count": 35,
     "metadata": {},
     "output_type": "execute_result"
    }
   ],
   "execution_count": 35
  },
  {
   "metadata": {
    "ExecuteTime": {
     "end_time": "2025-08-21T08:43:47.584438Z",
     "start_time": "2025-08-21T08:43:47.578290Z"
    }
   },
   "cell_type": "code",
   "source": "arr1*arr2",
   "id": "548a34f5cdbc5f73",
   "outputs": [
    {
     "data": {
      "text/plain": [
       "array([ 7, 16, 27, 40, 55, 72])"
      ]
     },
     "execution_count": 37,
     "metadata": {},
     "output_type": "execute_result"
    }
   ],
   "execution_count": 37
  },
  {
   "metadata": {
    "ExecuteTime": {
     "end_time": "2025-08-21T08:44:15.819674Z",
     "start_time": "2025-08-21T08:44:15.809055Z"
    }
   },
   "cell_type": "code",
   "source": "arr1*2",
   "id": "b3820e0fe40763de",
   "outputs": [
    {
     "data": {
      "text/plain": [
       "array([ 2,  4,  6,  8, 10, 12])"
      ]
     },
     "execution_count": 38,
     "metadata": {},
     "output_type": "execute_result"
    }
   ],
   "execution_count": 38
  },
  {
   "metadata": {
    "ExecuteTime": {
     "end_time": "2025-08-21T08:45:09.830547Z",
     "start_time": "2025-08-21T08:45:09.822605Z"
    }
   },
   "cell_type": "code",
   "source": "arr2>10",
   "id": "9ca01e39956b1891",
   "outputs": [
    {
     "data": {
      "text/plain": [
       "array([False, False, False, False,  True,  True])"
      ]
     },
     "execution_count": 40,
     "metadata": {},
     "output_type": "execute_result"
    }
   ],
   "execution_count": 40
  },
  {
   "metadata": {
    "ExecuteTime": {
     "end_time": "2025-08-21T08:54:07.700051Z",
     "start_time": "2025-08-21T08:54:07.692884Z"
    }
   },
   "cell_type": "code",
   "source": [
    "arr3=np.arange(6).reshape(2,3)\n",
    "arr3"
   ],
   "id": "b95c04b5c3aa7fae",
   "outputs": [
    {
     "data": {
      "text/plain": [
       "array([[0, 1, 2],\n",
       "       [3, 4, 5]])"
      ]
     },
     "execution_count": 45,
     "metadata": {},
     "output_type": "execute_result"
    }
   ],
   "execution_count": 45
  },
  {
   "metadata": {
    "ExecuteTime": {
     "end_time": "2025-08-21T08:54:58.548885Z",
     "start_time": "2025-08-21T08:54:58.538103Z"
    }
   },
   "cell_type": "code",
   "source": [
    "arr4=np.arange(6,12).reshape(3,2)\n",
    "arr4"
   ],
   "id": "cbc5814a3e1f333f",
   "outputs": [
    {
     "data": {
      "text/plain": [
       "array([[ 6,  7],\n",
       "       [ 8,  9],\n",
       "       [10, 11]])"
      ]
     },
     "execution_count": 49,
     "metadata": {},
     "output_type": "execute_result"
    }
   ],
   "execution_count": 49
  },
  {
   "metadata": {
    "ExecuteTime": {
     "end_time": "2025-08-21T08:55:02.678142Z",
     "start_time": "2025-08-21T08:55:02.667880Z"
    }
   },
   "cell_type": "code",
   "source": "arr3.dot(arr4)",
   "id": "b00f58ae834b6c72",
   "outputs": [
    {
     "data": {
      "text/plain": [
       "array([[ 28,  31],\n",
       "       [100, 112]])"
      ]
     },
     "execution_count": 50,
     "metadata": {},
     "output_type": "execute_result"
    }
   ],
   "execution_count": 50
  },
  {
   "metadata": {
    "ExecuteTime": {
     "end_time": "2025-08-21T08:55:51.636074Z",
     "start_time": "2025-08-21T08:55:51.629740Z"
    }
   },
   "cell_type": "code",
   "source": "arr4.max()",
   "id": "ccb6ed3e7f6c062a",
   "outputs": [
    {
     "data": {
      "text/plain": [
       "np.int64(11)"
      ]
     },
     "execution_count": 51,
     "metadata": {},
     "output_type": "execute_result"
    }
   ],
   "execution_count": 51
  },
  {
   "metadata": {
    "ExecuteTime": {
     "end_time": "2025-08-21T08:56:13.421778Z",
     "start_time": "2025-08-21T08:56:13.415576Z"
    }
   },
   "cell_type": "code",
   "source": "arr4.min()",
   "id": "9469de4d51f1c0c",
   "outputs": [
    {
     "data": {
      "text/plain": [
       "np.int64(6)"
      ]
     },
     "execution_count": 52,
     "metadata": {},
     "output_type": "execute_result"
    }
   ],
   "execution_count": 52
  },
  {
   "metadata": {
    "ExecuteTime": {
     "end_time": "2025-08-21T08:56:22.954548Z",
     "start_time": "2025-08-21T08:56:22.948291Z"
    }
   },
   "cell_type": "code",
   "source": "arr4",
   "id": "f3713b4e79dedd84",
   "outputs": [
    {
     "data": {
      "text/plain": [
       "array([[ 6,  7],\n",
       "       [ 8,  9],\n",
       "       [10, 11]])"
      ]
     },
     "execution_count": 53,
     "metadata": {},
     "output_type": "execute_result"
    }
   ],
   "execution_count": 53
  },
  {
   "metadata": {},
   "cell_type": "markdown",
   "source": "Giving collum wise min",
   "id": "75672d6178e46d2d"
  },
  {
   "metadata": {
    "ExecuteTime": {
     "end_time": "2025-08-21T08:58:05.093599Z",
     "start_time": "2025-08-21T08:58:05.079543Z"
    }
   },
   "cell_type": "code",
   "source": "arr4.min(axis=0)",
   "id": "d910b17ca59b0d50",
   "outputs": [
    {
     "data": {
      "text/plain": [
       "array([6, 7])"
      ]
     },
     "execution_count": 54,
     "metadata": {},
     "output_type": "execute_result"
    }
   ],
   "execution_count": 54
  },
  {
   "metadata": {},
   "cell_type": "markdown",
   "source": "Giving row wise min",
   "id": "d552dd67168df148"
  },
  {
   "metadata": {
    "ExecuteTime": {
     "end_time": "2025-08-21T08:58:52.624593Z",
     "start_time": "2025-08-21T08:58:52.618617Z"
    }
   },
   "cell_type": "code",
   "source": "arr4.min(axis=1)",
   "id": "7e0ea4b61aa92e77",
   "outputs": [
    {
     "data": {
      "text/plain": [
       "array([ 6,  8, 10])"
      ]
     },
     "execution_count": 55,
     "metadata": {},
     "output_type": "execute_result"
    }
   ],
   "execution_count": 55
  },
  {
   "metadata": {
    "ExecuteTime": {
     "end_time": "2025-08-21T08:59:16.297553Z",
     "start_time": "2025-08-21T08:59:16.290549Z"
    }
   },
   "cell_type": "code",
   "source": "arr4.sum()",
   "id": "c79f9ec97959a4b0",
   "outputs": [
    {
     "data": {
      "text/plain": [
       "np.int64(51)"
      ]
     },
     "execution_count": 56,
     "metadata": {},
     "output_type": "execute_result"
    }
   ],
   "execution_count": 56
  },
  {
   "metadata": {
    "ExecuteTime": {
     "end_time": "2025-08-21T08:59:57.654267Z",
     "start_time": "2025-08-21T08:59:57.647255Z"
    }
   },
   "cell_type": "code",
   "source": "arr4.sum(axis=0)",
   "id": "6cdfa2e9391608c5",
   "outputs": [
    {
     "data": {
      "text/plain": [
       "array([24, 27])"
      ]
     },
     "execution_count": 57,
     "metadata": {},
     "output_type": "execute_result"
    }
   ],
   "execution_count": 57
  },
  {
   "metadata": {
    "ExecuteTime": {
     "end_time": "2025-08-21T09:00:07.733426Z",
     "start_time": "2025-08-21T09:00:07.722567Z"
    }
   },
   "cell_type": "code",
   "source": "arr4.sum(axis=1)",
   "id": "4301b6f272caa6bc",
   "outputs": [
    {
     "data": {
      "text/plain": [
       "array([13, 17, 21])"
      ]
     },
     "execution_count": 58,
     "metadata": {},
     "output_type": "execute_result"
    }
   ],
   "execution_count": 58
  },
  {
   "metadata": {
    "ExecuteTime": {
     "end_time": "2025-08-21T09:00:25.769276Z",
     "start_time": "2025-08-21T09:00:25.755874Z"
    }
   },
   "cell_type": "code",
   "source": "arr4.mean()",
   "id": "77c2b96c1c34f81f",
   "outputs": [
    {
     "data": {
      "text/plain": [
       "np.float64(8.5)"
      ]
     },
     "execution_count": 59,
     "metadata": {},
     "output_type": "execute_result"
    }
   ],
   "execution_count": 59
  },
  {
   "metadata": {
    "ExecuteTime": {
     "end_time": "2025-08-21T09:00:43.462216Z",
     "start_time": "2025-08-21T09:00:43.445084Z"
    }
   },
   "cell_type": "code",
   "source": "arr4.mean(axis=0)",
   "id": "8e889e09e06e8fcd",
   "outputs": [
    {
     "data": {
      "text/plain": [
       "array([8., 9.])"
      ]
     },
     "execution_count": 60,
     "metadata": {},
     "output_type": "execute_result"
    }
   ],
   "execution_count": 60
  },
  {
   "metadata": {
    "ExecuteTime": {
     "end_time": "2025-08-21T09:01:06.333986Z",
     "start_time": "2025-08-21T09:01:06.321535Z"
    }
   },
   "cell_type": "code",
   "source": "arr4.std()",
   "id": "27515054a3fae26a",
   "outputs": [
    {
     "data": {
      "text/plain": [
       "np.float64(1.707825127659933)"
      ]
     },
     "execution_count": 61,
     "metadata": {},
     "output_type": "execute_result"
    }
   ],
   "execution_count": 61
  },
  {
   "metadata": {
    "ExecuteTime": {
     "end_time": "2025-08-21T09:01:34.357571Z",
     "start_time": "2025-08-21T09:01:34.351942Z"
    }
   },
   "cell_type": "code",
   "source": "np.sin(arr4)",
   "id": "834240159eb0561b",
   "outputs": [
    {
     "data": {
      "text/plain": [
       "array([[-0.2794155 ,  0.6569866 ],\n",
       "       [ 0.98935825,  0.41211849],\n",
       "       [-0.54402111, -0.99999021]])"
      ]
     },
     "execution_count": 62,
     "metadata": {},
     "output_type": "execute_result"
    }
   ],
   "execution_count": 62
  },
  {
   "metadata": {
    "ExecuteTime": {
     "end_time": "2025-08-21T09:01:48.193758Z",
     "start_time": "2025-08-21T09:01:48.179219Z"
    }
   },
   "cell_type": "code",
   "source": "np.median(arr4)",
   "id": "409a2b9e28bfcf40",
   "outputs": [
    {
     "data": {
      "text/plain": [
       "np.float64(8.5)"
      ]
     },
     "execution_count": 63,
     "metadata": {},
     "output_type": "execute_result"
    }
   ],
   "execution_count": 63
  },
  {
   "metadata": {
    "ExecuteTime": {
     "end_time": "2025-08-21T09:03:30.784539Z",
     "start_time": "2025-08-21T09:03:30.778036Z"
    }
   },
   "cell_type": "code",
   "source": "np.exp(arr4)",
   "id": "1245ca8648894f29",
   "outputs": [
    {
     "data": {
      "text/plain": [
       "array([[  403.42879349,  1096.63315843],\n",
       "       [ 2980.95798704,  8103.08392758],\n",
       "       [22026.46579481, 59874.1417152 ]])"
      ]
     },
     "execution_count": 64,
     "metadata": {},
     "output_type": "execute_result"
    }
   ],
   "execution_count": 64
  },
  {
   "metadata": {},
   "cell_type": "code",
   "outputs": [],
   "execution_count": null,
   "source": "",
   "id": "a4efffccf4b73c6d"
  }
 ],
 "metadata": {
  "kernelspec": {
   "display_name": "Python 3 (ipykernel)",
   "language": "python",
   "name": "python3"
  },
  "language_info": {
   "codemirror_mode": {
    "name": "ipython",
    "version": 2
   },
   "file_extension": ".py",
   "mimetype": "text/x-python",
   "name": "python",
   "nbconvert_exporter": "python",
   "pygments_lexer": "ipython2",
   "version": "2.7.6"
  }
 },
 "nbformat": 4,
 "nbformat_minor": 5
}
